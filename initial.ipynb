{
 "cells": [
  {
   "cell_type": "code",
   "execution_count": 1,
   "metadata": {},
   "outputs": [],
   "source": [
    "# This is the initial dataset which is used in the first initial step of training after this the model should be able to complete text"
   ]
  },
  {
   "cell_type": "code",
   "execution_count": 2,
   "metadata": {},
   "outputs": [
    {
     "name": "stderr",
     "output_type": "stream",
     "text": [
      "/home/none/PythonProject/aurora/venv/lib/python3.12/site-packages/tqdm/auto.py:21: TqdmWarning: IProgress not found. Please update jupyter and ipywidgets. See https://ipywidgets.readthedocs.io/en/stable/user_install.html\n",
      "  from .autonotebook import tqdm as notebook_tqdm\n"
     ]
    }
   ],
   "source": [
    "import os\n",
    "\n",
    "from datasets import load_dataset\n",
    "\n",
    "from torch.utils.data import Dataset, DataLoader\n",
    "\n",
    "from preprocess.sequencing import create_sequences\n",
    "from preprocess.tokenizer import BPETokenizer\n",
    "\n",
    "from transformer.DecoderLayer import DecoderLayer\n",
    "\n",
    "from concurrent.futures import ProcessPoolExecutor, as_completed\n",
    "from tqdm import tqdm\n",
    "\n",
    "import torch \n",
    "import torch.nn as nn\n",
    "import torch.optim as optim\n",
    "from torch.utils.data import DataLoader, Dataset"
   ]
  },
  {
   "cell_type": "code",
   "execution_count": 3,
   "metadata": {},
   "outputs": [
    {
     "name": "stdout",
     "output_type": "stream",
     "text": [
      "Training set size: 5742\n",
      "Validation set size: 267\n"
     ]
    }
   ],
   "source": [
    "DEVICE = torch.device(\"cuda\" if torch.cuda.is_available() else \"cpu\")\n",
    "SPECIAL_TOKENS = [\"<s>\", \"<pad>\", \"</s>\", \"<unk>\", \"<mask>\"]\n",
    "TEXT_COMPLETION_PATH = os.path.join(\"data\", \"text_completion.json\")\n",
    "\n",
    "train_set = load_dataset(\"abisee/cnn_dailymail\", \"3.0.0\", split=\"train[:2%]\")\n",
    "\n",
    "# Load 5% of the validation set\n",
    "valid_set = load_dataset(\"abisee/cnn_dailymail\", \"3.0.0\", split=\"validation[:2%]\")\n",
    "\n",
    "print(f\"Training set size: {len(train_set)}\")\n",
    "print(f\"Validation set size: {len(valid_set)}\")"
   ]
  },
  {
   "cell_type": "code",
   "execution_count": 4,
   "metadata": {},
   "outputs": [],
   "source": [
    "train_articles = train_set[\"article\"]\n",
    "train_highlights = train_set[\"highlights\"]\n",
    "\n",
    "\n",
    "tokenizer = BPETokenizer(\n",
    "    vocab_size=30000, min_frequency=2, special_tokens=SPECIAL_TOKENS\n",
    ")\n",
    "\n",
    "if not os.path.exists(TEXT_COMPLETION_PATH):\n",
    "    tokenizer.fit(\n",
    "        train_articles + train_highlights,\n",
    "    )\n",
    "    tokenizer.save(TEXT_COMPLETION_PATH)\n",
    "else:\n",
    "    tokenizer.load(TEXT_COMPLETION_PATH)"
   ]
  },
  {
   "cell_type": "code",
   "execution_count": 5,
   "metadata": {},
   "outputs": [
    {
     "name": "stderr",
     "output_type": "stream",
     "text": [
      "Extracting Train Articles: 100%|██████████| 5742/5742 [00:00<00:00, 11547.67it/s]\n",
      "Extracting Valid Articles: 100%|██████████| 267/267 [00:00<00:00, 10474.19it/s]\n",
      "Encoding Train Set: 100%|██████████| 5742/5742 [00:08<00:00, 666.79it/s]\n",
      "Encoding Valid Set: 100%|██████████| 267/267 [00:00<00:00, 536.23it/s]\n"
     ]
    }
   ],
   "source": [
    "train_articles = [item[\"article\"] for item in tqdm(train_set, desc=\"Extracting Train Articles\") if item[\"article\"] is not None]\n",
    "valid_articles = [item[\"article\"] for item in tqdm(valid_set, desc=\"Extracting Valid Articles\") if item[\"article\"] is not None]\n",
    "\n",
    "def encode_article(article):\n",
    "    return tokenizer.encode(article)\n",
    "\n",
    "def parallel_encode(articles, desc):\n",
    "    encoded_articles = []\n",
    "    with ProcessPoolExecutor() as executor:\n",
    "        futures = {executor.submit(encode_article, article): article for article in articles}\n",
    "        for future in tqdm(as_completed(futures), total=len(futures), desc=desc):\n",
    "            encoded_articles.append(future.result())\n",
    "    return encoded_articles\n",
    "\n",
    "train_set_encoded = parallel_encode(train_articles, \"Encoding Train Set\")\n",
    "valid_set_encoded = parallel_encode(valid_articles, \"Encoding Valid Set\")"
   ]
  },
  {
   "cell_type": "code",
   "execution_count": 6,
   "metadata": {},
   "outputs": [
    {
     "name": "stderr",
     "output_type": "stream",
     "text": [
      "Extracting Token IDs: 100%|██████████| 5742/5742 [00:00<00:00, 18991.07it/s]\n",
      "Extracting Token IDs: 100%|██████████| 267/267 [00:00<00:00, 33581.60it/s]\n"
     ]
    }
   ],
   "source": [
    "def extract_token_ids(encoded_data):\n",
    "    \"\"\"\n",
    "    Convert each Encoding object into its list of token IDs and flatten them into a single list,\n",
    "    with a progress bar showing the extraction progress.\n",
    "    \"\"\"\n",
    "    flattened_ids = []\n",
    "    for encoding in tqdm(encoded_data, desc=\"Extracting Token IDs\"):\n",
    "        flattened_ids.extend(encoding.ids)\n",
    "    return flattened_ids\n",
    "\n",
    "# Extract token IDs with progress bars for training and validation sets\n",
    "train_token_ids = extract_token_ids(train_set_encoded)\n",
    "valid_token_ids = extract_token_ids(valid_set_encoded)\n"
   ]
  },
  {
   "cell_type": "code",
   "execution_count": 7,
   "metadata": {},
   "outputs": [],
   "source": [
    "CONTEXT_ELN = 50 # N\n",
    "TARGET_ELN = 1\n",
    "\n",
    "train_seq = create_sequences(\n",
    "    tokenized_data=train_token_ids, \n",
    "    max_context_length=CONTEXT_ELN,\n",
    "    max_target_length=TARGET_ELN,\n",
    ")\n",
    "\n",
    "valid_seq = create_sequences(\n",
    "    tokenized_data=valid_token_ids,\n",
    "    max_context_length=CONTEXT_ELN,\n",
    "    max_target_length=TARGET_ELN,\n",
    ")"
   ]
  },
  {
   "cell_type": "code",
   "execution_count": 8,
   "metadata": {},
   "outputs": [
    {
     "name": "stdout",
     "output_type": "stream",
     "text": [
      "4551174\n",
      "Context: [20604, 16, 1354, 467, 9296, 8931, 13, 596, 3949, 11831]... (Total: 50 tokens)\n",
      "Target: [306] (Total: 1 token)\n",
      "Decoded: ... Radcliffe\n",
      "Decoded:  as\n",
      "Context: [16, 1354, 467, 9296, 8931, 13, 596, 3949, 11831, 874]... (Total: 50 tokens)\n",
      "Target: [3949] (Total: 1 token)\n",
      "Decoded: ...dcliffe as\n",
      "Decoded:  Harry\n",
      "Context: [1354, 467, 9296, 8931, 13, 596, 3949, 11831, 874, 3812]... (Total: 50 tokens)\n",
      "Target: [11831] (Total: 1 token)\n",
      "Decoded: ...e as Harry\n",
      "Decoded:  Potter\n",
      "Context: [467, 9296, 8931, 13, 596, 3949, 11831, 874, 3812, 24211]... (Total: 50 tokens)\n",
      "Target: [231] (Total: 1 token)\n",
      "Decoded: ...rry Potter\n",
      "Decoded:  in\n",
      "Context: [9296, 8931, 13, 596, 3949, 11831, 874, 3812, 24211, 13676]... (Total: 50 tokens)\n",
      "Target: [366] (Total: 1 token)\n",
      "Decoded: ... Potter in\n",
      "Decoded:  \"\n",
      "Context: [8931, 13, 596, 3949, 11831, 874, 3812, 24211, 13676, 2623]... (Total: 50 tokens)\n",
      "Target: [22955] (Total: 1 token)\n",
      "Decoded: ...otter in \"\n",
      "Decoded: Harry\n"
     ]
    }
   ],
   "source": [
    "print(len(train_seq))\n",
    "for i, (context, target) in enumerate(train_seq):\n",
    "    print(f\"Context: {context[:10]}... (Total: {len(context)} tokens)\") \n",
    "    print(f\"Target: {target} (Total: {len(target)} token)\") \n",
    "    print(f\"Decoded: ...{tokenizer.decode(context)[-10:]}\")\n",
    "    print(f\"Decoded: {tokenizer.decode(target)}\")\n",
    "    if i == 5:\n",
    "        break\n"
   ]
  },
  {
   "cell_type": "code",
   "execution_count": 9,
   "metadata": {},
   "outputs": [],
   "source": [
    "class TextCompletionDataset(Dataset):\n",
    "    def __init__(self, sequences):\n",
    "        self.sequences = sequences\n",
    "\n",
    "    def __len__(self):\n",
    "        return len(self.sequences)\n",
    "\n",
    "    def __getitem__(self, idx):\n",
    "        context, target = self.sequences[idx]\n",
    "        # Convert context and target to tensors\n",
    "        context = torch.tensor(context, dtype=torch.long)\n",
    "        target = torch.tensor(target, dtype=torch.long)\n",
    "        return context, target\n",
    "\n",
    "    \n",
    "train_dataset = TextCompletionDataset(train_seq)\n",
    "valid_dataset = TextCompletionDataset(valid_seq)"
   ]
  },
  {
   "cell_type": "code",
   "execution_count": 10,
   "metadata": {},
   "outputs": [],
   "source": [
    "train_loader = DataLoader(train_dataset, batch_size=64, shuffle=True)\n",
    "valid_loader = DataLoader(valid_dataset, batch_size=64, shuffle=False)"
   ]
  },
  {
   "cell_type": "code",
   "execution_count": 11,
   "metadata": {},
   "outputs": [],
   "source": [
    "EPOCHS = 10\n",
    "VOC_SIZE = tokenizer.get_vocab_size()\n",
    "MAX_LEN = CONTEXT_ELN\n",
    "D_MODEL = 512\n",
    "FFN_HIDDEN = 2048\n",
    "N_HEAD = 8\n",
    "N_LAYERS = 6\n",
    "DROP_PROB = 0.1"
   ]
  },
  {
   "cell_type": "code",
   "execution_count": 12,
   "metadata": {},
   "outputs": [],
   "source": [
    "class TransformerModel(nn.Module):\n",
    "    def __init__(\n",
    "        self,\n",
    "        vocab_size,\n",
    "        embed_dim,\n",
    "        num_layers,\n",
    "        num_heads,\n",
    "        ff_dim,\n",
    "        max_len=5000,\n",
    "        dropout=0.1,\n",
    "    ):\n",
    "        super().__init__()\n",
    "        self.decoder = DecoderLayer(\n",
    "            vocab_size, embed_dim, num_layers, num_heads, ff_dim, max_len, dropout\n",
    "        )\n",
    "\n",
    "    def forward(self, x, mask=None):\n",
    "        return self.decoder(x, mask)\n"
   ]
  },
  {
   "cell_type": "code",
   "execution_count": 13,
   "metadata": {},
   "outputs": [
    {
     "name": "stdout",
     "output_type": "stream",
     "text": [
      "Parameters:  49664304\n",
      "TransformerModel(\n",
      "  (decoder): DecoderLayer(\n",
      "    (embedding): InputEmbeddings(\n",
      "      (embed): Embedding(30000, 512)\n",
      "    )\n",
      "    (positional_encoding): PositionalEncoding()\n",
      "    (layers): ModuleList(\n",
      "      (0-5): 6 x DecoderBlock(\n",
      "        (attention): MultiHeadAttention(\n",
      "          (qkv_proj): Linear(in_features=512, out_features=1536, bias=True)\n",
      "          (out_proj): Linear(in_features=512, out_features=512, bias=True)\n",
      "        )\n",
      "        (feed_forward): FeedForward(\n",
      "          (linear1): Linear(in_features=512, out_features=2048, bias=True)\n",
      "          (linear2): Linear(in_features=2048, out_features=512, bias=True)\n",
      "          (dropout): Dropout(p=0.1, inplace=False)\n",
      "        )\n",
      "        (norm1): LayerNorm((512,), eps=1e-05, elementwise_affine=True)\n",
      "        (norm2): LayerNorm((512,), eps=1e-05, elementwise_affine=True)\n",
      "        (dropout): Dropout(p=0.1, inplace=False)\n",
      "      )\n",
      "    )\n",
      "    (fc_out): Linear(in_features=512, out_features=30000, bias=True)\n",
      "  )\n",
      ")\n"
     ]
    }
   ],
   "source": [
    "model = TransformerModel(\n",
    "    vocab_size=VOC_SIZE,\n",
    "    embed_dim=D_MODEL,\n",
    "    num_layers=N_LAYERS,\n",
    "    num_heads=N_HEAD,\n",
    "    ff_dim=FFN_HIDDEN,\n",
    "    max_len=MAX_LEN,\n",
    "    dropout=DROP_PROB\n",
    ").to(DEVICE)\n",
    "\n",
    "print(\"Parameters: \", sum(p.numel() for p in model.parameters() if p.requires_grad))\n",
    "print(model)"
   ]
  },
  {
   "cell_type": "code",
   "execution_count": 14,
   "metadata": {},
   "outputs": [],
   "source": [
    "criterion = nn.CrossEntropyLoss()\n",
    "optimizer = optim.AdamW(model.parameters(), lr=0.0001)"
   ]
  },
  {
   "cell_type": "code",
   "execution_count": 15,
   "metadata": {},
   "outputs": [],
   "source": [
    "def look_ahead_mask(seq_len):\n",
    "    mask = (torch.triu(torch.ones(seq_len, seq_len)) == 1).transpose(0, 1)\n",
    "    mask = mask.float().masked_fill(mask == 0, float(\"-inf\")).masked_fill(mask == 1, float(0.0))\n",
    "    return mask"
   ]
  },
  {
   "cell_type": "code",
   "execution_count": 16,
   "metadata": {},
   "outputs": [
    {
     "name": "stderr",
     "output_type": "stream",
     "text": [
      "Training:   0%|          | 0/71113 [00:00<?, ?it/s]"
     ]
    },
    {
     "name": "stdout",
     "output_type": "stream",
     "text": [
      "Output shape: torch.Size([64, 30000])\n",
      "Target shape: torch.Size([64])\n"
     ]
    },
    {
     "name": "stderr",
     "output_type": "stream",
     "text": [
      "Training:   0%|          | 1/71113 [00:05<114:46:12,  5.81s/it]"
     ]
    },
    {
     "name": "stdout",
     "output_type": "stream",
     "text": [
      "Output shape: torch.Size([64, 30000])\n",
      "Target shape: torch.Size([64])\n"
     ]
    },
    {
     "name": "stderr",
     "output_type": "stream",
     "text": [
      "Training:   0%|          | 2/71113 [00:11<107:47:35,  5.46s/it]"
     ]
    },
    {
     "name": "stdout",
     "output_type": "stream",
     "text": [
      "Output shape: torch.Size([64, 30000])\n",
      "Target shape: torch.Size([64])\n"
     ]
    },
    {
     "name": "stderr",
     "output_type": "stream",
     "text": [
      "Training:   0%|          | 3/71113 [00:23<168:57:23,  8.55s/it]"
     ]
    },
    {
     "name": "stdout",
     "output_type": "stream",
     "text": [
      "Output shape: torch.Size([64, 30000])\n",
      "Target shape: torch.Size([64])\n"
     ]
    },
    {
     "name": "stderr",
     "output_type": "stream",
     "text": [
      "Training:   0%|          | 4/71113 [00:31<162:45:17,  8.24s/it]"
     ]
    },
    {
     "name": "stdout",
     "output_type": "stream",
     "text": [
      "Output shape: torch.Size([64, 30000])\n",
      "Target shape: torch.Size([64])\n"
     ]
    },
    {
     "name": "stderr",
     "output_type": "stream",
     "text": [
      "Training:   0%|          | 5/71113 [00:38<159:29:30,  8.07s/it]"
     ]
    },
    {
     "name": "stdout",
     "output_type": "stream",
     "text": [
      "Output shape: torch.Size([64, 30000])\n",
      "Target shape: torch.Size([64])\n"
     ]
    },
    {
     "name": "stderr",
     "output_type": "stream",
     "text": [
      "Training:   0%|          | 6/71113 [00:45<149:20:54,  7.56s/it]"
     ]
    },
    {
     "name": "stdout",
     "output_type": "stream",
     "text": [
      "Output shape: torch.Size([64, 30000])\n",
      "Target shape: torch.Size([64])\n"
     ]
    },
    {
     "name": "stderr",
     "output_type": "stream",
     "text": [
      "Training:   0%|          | 7/71113 [00:54<157:52:08,  7.99s/it]"
     ]
    },
    {
     "name": "stdout",
     "output_type": "stream",
     "text": [
      "Output shape: torch.Size([64, 30000])\n",
      "Target shape: torch.Size([64])\n"
     ]
    },
    {
     "name": "stderr",
     "output_type": "stream",
     "text": [
      "Training:   0%|          | 8/71113 [01:01<155:18:57,  7.86s/it]"
     ]
    },
    {
     "name": "stdout",
     "output_type": "stream",
     "text": [
      "Output shape: torch.Size([64, 30000])\n",
      "Target shape: torch.Size([64])\n"
     ]
    },
    {
     "name": "stderr",
     "output_type": "stream",
     "text": [
      "Training:   0%|          | 9/71113 [01:10<162:49:00,  8.24s/it]"
     ]
    },
    {
     "name": "stdout",
     "output_type": "stream",
     "text": [
      "Output shape: torch.Size([64, 30000])\n",
      "Target shape: torch.Size([64])\n"
     ]
    },
    {
     "name": "stderr",
     "output_type": "stream",
     "text": [
      "Training:   0%|          | 10/71113 [01:19<161:53:58,  8.20s/it]"
     ]
    },
    {
     "name": "stdout",
     "output_type": "stream",
     "text": [
      "Output shape: torch.Size([64, 30000])\n",
      "Target shape: torch.Size([64])\n"
     ]
    },
    {
     "name": "stderr",
     "output_type": "stream",
     "text": [
      "Training:   0%|          | 11/71113 [01:30<183:16:50,  9.28s/it]"
     ]
    },
    {
     "name": "stdout",
     "output_type": "stream",
     "text": [
      "Output shape: torch.Size([64, 30000])\n",
      "Target shape: torch.Size([64])\n"
     ]
    },
    {
     "name": "stderr",
     "output_type": "stream",
     "text": [
      "Training:   0%|          | 12/71113 [01:37<169:55:08,  8.60s/it]"
     ]
    },
    {
     "name": "stdout",
     "output_type": "stream",
     "text": [
      "Output shape: torch.Size([64, 30000])\n",
      "Target shape: torch.Size([64])\n"
     ]
    },
    {
     "name": "stderr",
     "output_type": "stream",
     "text": [
      "Training:   0%|          | 13/71113 [01:44<159:49:12,  8.09s/it]"
     ]
    },
    {
     "name": "stdout",
     "output_type": "stream",
     "text": [
      "Output shape: torch.Size([64, 30000])\n",
      "Target shape: torch.Size([64])\n"
     ]
    },
    {
     "name": "stderr",
     "output_type": "stream",
     "text": [
      "Training:   0%|          | 14/71113 [01:51<150:30:37,  7.62s/it]"
     ]
    },
    {
     "name": "stdout",
     "output_type": "stream",
     "text": [
      "Output shape: torch.Size([64, 30000])\n",
      "Target shape: torch.Size([64])\n"
     ]
    },
    {
     "name": "stderr",
     "output_type": "stream",
     "text": [
      "Training:   0%|          | 15/71113 [02:00<161:14:54,  8.16s/it]"
     ]
    },
    {
     "name": "stdout",
     "output_type": "stream",
     "text": [
      "Output shape: torch.Size([64, 30000])\n",
      "Target shape: torch.Size([64])\n"
     ]
    },
    {
     "name": "stderr",
     "output_type": "stream",
     "text": [
      "Training:   0%|          | 15/71113 [02:08<169:24:33,  8.58s/it]\n"
     ]
    },
    {
     "ename": "KeyboardInterrupt",
     "evalue": "",
     "output_type": "error",
     "traceback": [
      "\u001b[0;31m---------------------------------------------------------------------------\u001b[0m",
      "\u001b[0;31mKeyboardInterrupt\u001b[0m                         Traceback (most recent call last)",
      "Cell \u001b[0;32mIn[16], line 39\u001b[0m\n\u001b[1;32m     36\u001b[0m     \u001b[38;5;28;01mreturn\u001b[39;00m total_loss \u001b[38;5;241m/\u001b[39m \u001b[38;5;28mlen\u001b[39m(loader)\n\u001b[1;32m     38\u001b[0m \u001b[38;5;66;03m# Execute the training step\u001b[39;00m\n\u001b[0;32m---> 39\u001b[0m \u001b[43mtrain_epoch\u001b[49m\u001b[43m(\u001b[49m\u001b[43mmodel\u001b[49m\u001b[43m,\u001b[49m\u001b[43m \u001b[49m\u001b[43mtrain_loader\u001b[49m\u001b[43m,\u001b[49m\u001b[43m \u001b[49m\u001b[43mcriterion\u001b[49m\u001b[43m,\u001b[49m\u001b[43m \u001b[49m\u001b[43moptimizer\u001b[49m\u001b[43m)\u001b[49m\n",
      "Cell \u001b[0;32mIn[16], line 32\u001b[0m, in \u001b[0;36mtrain_epoch\u001b[0;34m(model, loader, criterion, optimizer)\u001b[0m\n\u001b[1;32m     29\u001b[0m loss \u001b[38;5;241m=\u001b[39m criterion(output, target)\n\u001b[1;32m     31\u001b[0m \u001b[38;5;66;03m# Backpropagation\u001b[39;00m\n\u001b[0;32m---> 32\u001b[0m \u001b[43mloss\u001b[49m\u001b[38;5;241;43m.\u001b[39;49m\u001b[43mbackward\u001b[49m\u001b[43m(\u001b[49m\u001b[43m)\u001b[49m\n\u001b[1;32m     33\u001b[0m optimizer\u001b[38;5;241m.\u001b[39mstep()\n\u001b[1;32m     35\u001b[0m total_loss \u001b[38;5;241m+\u001b[39m\u001b[38;5;241m=\u001b[39m loss\u001b[38;5;241m.\u001b[39mitem()\n",
      "File \u001b[0;32m~/PythonProject/aurora/venv/lib/python3.12/site-packages/torch/_tensor.py:521\u001b[0m, in \u001b[0;36mTensor.backward\u001b[0;34m(self, gradient, retain_graph, create_graph, inputs)\u001b[0m\n\u001b[1;32m    511\u001b[0m \u001b[38;5;28;01mif\u001b[39;00m has_torch_function_unary(\u001b[38;5;28mself\u001b[39m):\n\u001b[1;32m    512\u001b[0m     \u001b[38;5;28;01mreturn\u001b[39;00m handle_torch_function(\n\u001b[1;32m    513\u001b[0m         Tensor\u001b[38;5;241m.\u001b[39mbackward,\n\u001b[1;32m    514\u001b[0m         (\u001b[38;5;28mself\u001b[39m,),\n\u001b[0;32m   (...)\u001b[0m\n\u001b[1;32m    519\u001b[0m         inputs\u001b[38;5;241m=\u001b[39minputs,\n\u001b[1;32m    520\u001b[0m     )\n\u001b[0;32m--> 521\u001b[0m \u001b[43mtorch\u001b[49m\u001b[38;5;241;43m.\u001b[39;49m\u001b[43mautograd\u001b[49m\u001b[38;5;241;43m.\u001b[39;49m\u001b[43mbackward\u001b[49m\u001b[43m(\u001b[49m\n\u001b[1;32m    522\u001b[0m \u001b[43m    \u001b[49m\u001b[38;5;28;43mself\u001b[39;49m\u001b[43m,\u001b[49m\u001b[43m \u001b[49m\u001b[43mgradient\u001b[49m\u001b[43m,\u001b[49m\u001b[43m \u001b[49m\u001b[43mretain_graph\u001b[49m\u001b[43m,\u001b[49m\u001b[43m \u001b[49m\u001b[43mcreate_graph\u001b[49m\u001b[43m,\u001b[49m\u001b[43m \u001b[49m\u001b[43minputs\u001b[49m\u001b[38;5;241;43m=\u001b[39;49m\u001b[43minputs\u001b[49m\n\u001b[1;32m    523\u001b[0m \u001b[43m\u001b[49m\u001b[43m)\u001b[49m\n",
      "File \u001b[0;32m~/PythonProject/aurora/venv/lib/python3.12/site-packages/torch/autograd/__init__.py:289\u001b[0m, in \u001b[0;36mbackward\u001b[0;34m(tensors, grad_tensors, retain_graph, create_graph, grad_variables, inputs)\u001b[0m\n\u001b[1;32m    284\u001b[0m     retain_graph \u001b[38;5;241m=\u001b[39m create_graph\n\u001b[1;32m    286\u001b[0m \u001b[38;5;66;03m# The reason we repeat the same comment below is that\u001b[39;00m\n\u001b[1;32m    287\u001b[0m \u001b[38;5;66;03m# some Python versions print out the first line of a multi-line function\u001b[39;00m\n\u001b[1;32m    288\u001b[0m \u001b[38;5;66;03m# calls in the traceback and some print out the last line\u001b[39;00m\n\u001b[0;32m--> 289\u001b[0m \u001b[43m_engine_run_backward\u001b[49m\u001b[43m(\u001b[49m\n\u001b[1;32m    290\u001b[0m \u001b[43m    \u001b[49m\u001b[43mtensors\u001b[49m\u001b[43m,\u001b[49m\n\u001b[1;32m    291\u001b[0m \u001b[43m    \u001b[49m\u001b[43mgrad_tensors_\u001b[49m\u001b[43m,\u001b[49m\n\u001b[1;32m    292\u001b[0m \u001b[43m    \u001b[49m\u001b[43mretain_graph\u001b[49m\u001b[43m,\u001b[49m\n\u001b[1;32m    293\u001b[0m \u001b[43m    \u001b[49m\u001b[43mcreate_graph\u001b[49m\u001b[43m,\u001b[49m\n\u001b[1;32m    294\u001b[0m \u001b[43m    \u001b[49m\u001b[43minputs\u001b[49m\u001b[43m,\u001b[49m\n\u001b[1;32m    295\u001b[0m \u001b[43m    \u001b[49m\u001b[43mallow_unreachable\u001b[49m\u001b[38;5;241;43m=\u001b[39;49m\u001b[38;5;28;43;01mTrue\u001b[39;49;00m\u001b[43m,\u001b[49m\n\u001b[1;32m    296\u001b[0m \u001b[43m    \u001b[49m\u001b[43maccumulate_grad\u001b[49m\u001b[38;5;241;43m=\u001b[39;49m\u001b[38;5;28;43;01mTrue\u001b[39;49;00m\u001b[43m,\u001b[49m\n\u001b[1;32m    297\u001b[0m \u001b[43m\u001b[49m\u001b[43m)\u001b[49m\n",
      "File \u001b[0;32m~/PythonProject/aurora/venv/lib/python3.12/site-packages/torch/autograd/graph.py:769\u001b[0m, in \u001b[0;36m_engine_run_backward\u001b[0;34m(t_outputs, *args, **kwargs)\u001b[0m\n\u001b[1;32m    767\u001b[0m     unregister_hooks \u001b[38;5;241m=\u001b[39m _register_logging_hooks_on_whole_graph(t_outputs)\n\u001b[1;32m    768\u001b[0m \u001b[38;5;28;01mtry\u001b[39;00m:\n\u001b[0;32m--> 769\u001b[0m     \u001b[38;5;28;01mreturn\u001b[39;00m \u001b[43mVariable\u001b[49m\u001b[38;5;241;43m.\u001b[39;49m\u001b[43m_execution_engine\u001b[49m\u001b[38;5;241;43m.\u001b[39;49m\u001b[43mrun_backward\u001b[49m\u001b[43m(\u001b[49m\u001b[43m  \u001b[49m\u001b[38;5;66;43;03m# Calls into the C++ engine to run the backward pass\u001b[39;49;00m\n\u001b[1;32m    770\u001b[0m \u001b[43m        \u001b[49m\u001b[43mt_outputs\u001b[49m\u001b[43m,\u001b[49m\u001b[43m \u001b[49m\u001b[38;5;241;43m*\u001b[39;49m\u001b[43margs\u001b[49m\u001b[43m,\u001b[49m\u001b[43m \u001b[49m\u001b[38;5;241;43m*\u001b[39;49m\u001b[38;5;241;43m*\u001b[39;49m\u001b[43mkwargs\u001b[49m\n\u001b[1;32m    771\u001b[0m \u001b[43m    \u001b[49m\u001b[43m)\u001b[49m  \u001b[38;5;66;03m# Calls into the C++ engine to run the backward pass\u001b[39;00m\n\u001b[1;32m    772\u001b[0m \u001b[38;5;28;01mfinally\u001b[39;00m:\n\u001b[1;32m    773\u001b[0m     \u001b[38;5;28;01mif\u001b[39;00m attach_logging_hooks:\n",
      "\u001b[0;31mKeyboardInterrupt\u001b[0m: "
     ]
    }
   ],
   "source": [
    "def train_epoch(model, loader, criterion, optimizer):\n",
    "    model.train()\n",
    "    total_loss = 0\n",
    "    for context, target in tqdm(loader, desc=\"Training\"):\n",
    "        context = context.to(DEVICE)\n",
    "        target = target.to(DEVICE)\n",
    "        \n",
    "        # Zero gradients\n",
    "        optimizer.zero_grad()\n",
    "        \n",
    "        # Create the look-ahead mask for the context sequence\n",
    "        mask = look_ahead_mask(context.size(1)).to(DEVICE)\n",
    "        \n",
    "        # Forward pass: model should predict the next token based on context\n",
    "        # Ensure that the model is only outputting one prediction per context\n",
    "        output = model(context, mask)  # Expect shape: (batch_size, 1, vocab_size)\n",
    "\n",
    "        # Extract only the last token's prediction: output should be (batch_size, vocab_size)\n",
    "        output = output[:, -1, :]  # Get the last prediction along the sequence dimension\n",
    "        \n",
    "        # Ensure target is correctly shaped: should be (batch_size,)\n",
    "        target = target.squeeze(-1)  # Remove the extra dimension from the target\n",
    "        \n",
    "        # Debug shapes\n",
    "        print(f\"Output shape: {output.shape}\")  # Should be (batch_size, vocab_size)\n",
    "        print(f\"Target shape: {target.shape}\")  # Should be (batch_size,)\n",
    "        \n",
    "        # Calculate loss\n",
    "        loss = criterion(output, target)\n",
    "        \n",
    "        # Backpropagation\n",
    "        loss.backward()\n",
    "        optimizer.step()\n",
    "        \n",
    "        total_loss += loss.item()\n",
    "    return total_loss / len(loader)\n",
    "\n",
    "# Execute the training step\n",
    "train_epoch(model, train_loader, criterion, optimizer)\n"
   ]
  },
  {
   "cell_type": "code",
   "execution_count": null,
   "metadata": {},
   "outputs": [],
   "source": [
    "torch.save(model.state_dict(), \"data/model.pth\")"
   ]
  }
 ],
 "metadata": {
  "kernelspec": {
   "display_name": "venv",
   "language": "python",
   "name": "python3"
  },
  "language_info": {
   "codemirror_mode": {
    "name": "ipython",
    "version": 3
   },
   "file_extension": ".py",
   "mimetype": "text/x-python",
   "name": "python",
   "nbconvert_exporter": "python",
   "pygments_lexer": "ipython3",
   "version": "3.12.5"
  }
 },
 "nbformat": 4,
 "nbformat_minor": 2
}
