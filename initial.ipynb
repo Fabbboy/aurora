{
 "cells": [
  {
   "cell_type": "code",
   "execution_count": 1,
   "metadata": {},
   "outputs": [],
   "source": [
    "# This is the initial dataset which is used in the first initial step of training after this the model should be able to complete text"
   ]
  },
  {
   "cell_type": "code",
   "execution_count": 2,
   "metadata": {},
   "outputs": [
    {
     "name": "stderr",
     "output_type": "stream",
     "text": [
      "/home/none/PythonProject/aurora/venv/lib/python3.12/site-packages/tqdm/auto.py:21: TqdmWarning: IProgress not found. Please update jupyter and ipywidgets. See https://ipywidgets.readthedocs.io/en/stable/user_install.html\n",
      "  from .autonotebook import tqdm as notebook_tqdm\n"
     ]
    },
    {
     "name": "stdout",
     "output_type": "stream",
     "text": [
      "tensor([[[-1.2119,  0.5388, -0.5810,  ..., -0.6570, -0.2408,  0.3383],\n",
      "         [-0.6381, -0.2803,  0.7779,  ..., -0.6899, -0.8091,  0.3564],\n",
      "         [ 0.2470, -1.7142, -0.2695,  ...,  1.1749, -1.4862, -0.5906],\n",
      "         ...,\n",
      "         [ 0.4220, -0.1832,  0.3903,  ...,  1.0794, -0.1032, -1.2539],\n",
      "         [-0.8788,  0.6106,  0.4052,  ..., -0.0926,  1.4822, -0.9003],\n",
      "         [ 0.0478,  0.7173,  0.8640,  ...,  0.8894,  0.9037, -1.4157]]],\n",
      "       grad_fn=<AddBackward0>)\n"
     ]
    }
   ],
   "source": [
    "import os\n",
    "\n",
    "from datasets import load_dataset\n",
    "\n",
    "from torch.utils.data import Dataset, DataLoader\n",
    "\n",
    "from preprocess.sequencing import create_sequences\n",
    "from preprocess.tokenizer import BPETokenizer\n",
    "\n",
    "from concurrent.futures import ProcessPoolExecutor, as_completed\n",
    "from tqdm import tqdm\n",
    "\n",
    "import torch \n",
    "import torch.nn as nn\n",
    "import torch.optim as optim\n",
    "from torch.utils.data import DataLoader, Dataset"
   ]
  },
  {
   "cell_type": "code",
   "execution_count": 3,
   "metadata": {},
   "outputs": [
    {
     "name": "stdout",
     "output_type": "stream",
     "text": [
      "Training set size: 14356\n",
      "Validation set size: 668\n"
     ]
    }
   ],
   "source": [
    "DEVICE = torch.device(\"cuda\" if torch.cuda.is_available() else \"cpu\")\n",
    "SPECIAL_TOKENS = [\"<s>\", \"<pad>\", \"</s>\", \"<unk>\", \"<mask>\"]\n",
    "TEXT_COMPLETION_PATH = os.path.join(\"data\", \"text_completion.json\")\n",
    "\n",
    "train_set = load_dataset(\"abisee/cnn_dailymail\", \"3.0.0\", split=\"train[:5%]\")\n",
    "\n",
    "# Load 5% of the validation set\n",
    "valid_set = load_dataset(\"abisee/cnn_dailymail\", \"3.0.0\", split=\"validation[:5%]\")\n",
    "\n",
    "print(f\"Training set size: {len(train_set)}\")\n",
    "print(f\"Validation set size: {len(valid_set)}\")"
   ]
  },
  {
   "cell_type": "code",
   "execution_count": 4,
   "metadata": {},
   "outputs": [],
   "source": [
    "train_articles = train_set[\"article\"]\n",
    "train_highlights = train_set[\"highlights\"]\n",
    "\n",
    "\n",
    "tokenizer = BPETokenizer(\n",
    "    vocab_size=30000, min_frequency=2, special_tokens=SPECIAL_TOKENS\n",
    ")\n",
    "\n",
    "if not os.path.exists(TEXT_COMPLETION_PATH):\n",
    "    tokenizer.fit(\n",
    "        train_articles + train_highlights,\n",
    "    )\n",
    "    tokenizer.save(TEXT_COMPLETION_PATH)\n",
    "else:\n",
    "    tokenizer.load(TEXT_COMPLETION_PATH)"
   ]
  },
  {
   "cell_type": "code",
   "execution_count": 5,
   "metadata": {},
   "outputs": [
    {
     "name": "stderr",
     "output_type": "stream",
     "text": [
      "Extracting Train Articles:   0%|          | 0/14356 [00:00<?, ?it/s]"
     ]
    },
    {
     "name": "stderr",
     "output_type": "stream",
     "text": [
      "Extracting Train Articles: 100%|██████████| 14356/14356 [00:00<00:00, 17477.54it/s]\n",
      "Extracting Valid Articles: 100%|██████████| 668/668 [00:00<00:00, 17491.10it/s]\n",
      "Encoding Train Set: 100%|██████████| 14356/14356 [00:11<00:00, 1289.41it/s]\n",
      "Encoding Valid Set: 100%|██████████| 668/668 [00:00<00:00, 1116.12it/s]\n"
     ]
    }
   ],
   "source": [
    "train_articles = [item[\"article\"] for item in tqdm(train_set, desc=\"Extracting Train Articles\") if item[\"article\"] is not None]\n",
    "valid_articles = [item[\"article\"] for item in tqdm(valid_set, desc=\"Extracting Valid Articles\") if item[\"article\"] is not None]\n",
    "\n",
    "def encode_article(article):\n",
    "    return tokenizer.encode(article)\n",
    "\n",
    "def parallel_encode(articles, desc):\n",
    "    encoded_articles = []\n",
    "    with ProcessPoolExecutor() as executor:\n",
    "        futures = {executor.submit(encode_article, article): article for article in articles}\n",
    "        for future in tqdm(as_completed(futures), total=len(futures), desc=desc):\n",
    "            encoded_articles.append(future.result())\n",
    "    return encoded_articles\n",
    "\n",
    "train_set_encoded = parallel_encode(train_articles, \"Encoding Train Set\")\n",
    "valid_set_encoded = parallel_encode(valid_articles, \"Encoding Valid Set\")"
   ]
  },
  {
   "cell_type": "code",
   "execution_count": 6,
   "metadata": {},
   "outputs": [
    {
     "name": "stderr",
     "output_type": "stream",
     "text": [
      "Extracting Token IDs: 100%|██████████| 14356/14356 [00:00<00:00, 43464.45it/s]\n",
      "Extracting Token IDs: 100%|██████████| 668/668 [00:00<00:00, 40104.71it/s]\n"
     ]
    }
   ],
   "source": [
    "def extract_token_ids(encoded_data):\n",
    "    \"\"\"\n",
    "    Convert each Encoding object into its list of token IDs and flatten them into a single list,\n",
    "    with a progress bar showing the extraction progress.\n",
    "    \"\"\"\n",
    "    flattened_ids = []\n",
    "    for encoding in tqdm(encoded_data, desc=\"Extracting Token IDs\"):\n",
    "        flattened_ids.extend(encoding.ids)\n",
    "    return flattened_ids\n",
    "\n",
    "# Extract token IDs with progress bars for training and validation sets\n",
    "train_token_ids = extract_token_ids(train_set_encoded)\n",
    "valid_token_ids = extract_token_ids(valid_set_encoded)\n"
   ]
  },
  {
   "cell_type": "code",
   "execution_count": 7,
   "metadata": {},
   "outputs": [],
   "source": [
    "train_seq = create_sequences(\n",
    "    tokenized_data=train_token_ids, \n",
    "    max_context_length=50,\n",
    "    max_target_length=1, \n",
    ")\n",
    "\n",
    "valid_seq = create_sequences(\n",
    "    tokenized_data=valid_token_ids,\n",
    "    max_context_length=50,\n",
    "    max_target_length=1, \n",
    ")"
   ]
  },
  {
   "cell_type": "code",
   "execution_count": 8,
   "metadata": {},
   "outputs": [
    {
     "name": "stdout",
     "output_type": "stream",
     "text": [
      "11141722\n",
      "Context: [20604, 16, 1354, 467, 9296, 8931, 13, 596, 3949, 11831]... (Total: 50 tokens)\n",
      "Target: [306] (Total: 1 token)\n",
      "Decoded: ... Radcliffe\n",
      "Decoded:  as\n",
      "Context: [16, 1354, 467, 9296, 8931, 13, 596, 3949, 11831, 874]... (Total: 50 tokens)\n",
      "Target: [3949] (Total: 1 token)\n",
      "Decoded: ...dcliffe as\n",
      "Decoded:  Harry\n",
      "Context: [1354, 467, 9296, 8931, 13, 596, 3949, 11831, 874, 3812]... (Total: 50 tokens)\n",
      "Target: [11831] (Total: 1 token)\n",
      "Decoded: ...e as Harry\n",
      "Decoded:  Potter\n",
      "Context: [467, 9296, 8931, 13, 596, 3949, 11831, 874, 3812, 24211]... (Total: 50 tokens)\n",
      "Target: [231] (Total: 1 token)\n",
      "Decoded: ...rry Potter\n",
      "Decoded:  in\n",
      "Context: [9296, 8931, 13, 596, 3949, 11831, 874, 3812, 24211, 13676]... (Total: 50 tokens)\n",
      "Target: [366] (Total: 1 token)\n",
      "Decoded: ... Potter in\n",
      "Decoded:  \"\n",
      "Context: [8931, 13, 596, 3949, 11831, 874, 3812, 24211, 13676, 2623]... (Total: 50 tokens)\n",
      "Target: [22955] (Total: 1 token)\n",
      "Decoded: ...otter in \"\n",
      "Decoded: Harry\n"
     ]
    }
   ],
   "source": [
    "print(len(train_seq))\n",
    "for i, (context, target) in enumerate(train_seq):\n",
    "    print(f\"Context: {context[:10]}... (Total: {len(context)} tokens)\") \n",
    "    print(f\"Target: {target} (Total: {len(target)} token)\") \n",
    "    print(f\"Decoded: ...{tokenizer.decode(context)[-10:]}\")\n",
    "    print(f\"Decoded: {tokenizer.decode(target)}\")\n",
    "    if i == 5:\n",
    "        break\n"
   ]
  },
  {
   "cell_type": "code",
   "execution_count": 9,
   "metadata": {},
   "outputs": [],
   "source": [
    "class TextCompletionDataset(Dataset):\n",
    "    def __init__(self, sequences):\n",
    "        self.sequences = sequences\n",
    "\n",
    "    def __len__(self):\n",
    "        return len(self.sequences)\n",
    "\n",
    "    def __getitem__(self, idx):\n",
    "        context, target = self.sequences[idx]\n",
    "        # Convert context and target to tensors\n",
    "        context = torch.tensor(context, dtype=torch.long)\n",
    "        target = torch.tensor(target, dtype=torch.long)\n",
    "        return context, target\n",
    "\n",
    "    \n",
    "train_dataset = TextCompletionDataset(train_seq)\n",
    "valid_dataset = TextCompletionDataset(valid_seq)"
   ]
  },
  {
   "cell_type": "code",
   "execution_count": 10,
   "metadata": {},
   "outputs": [],
   "source": [
    "train_loader = DataLoader(train_dataset, batch_size=32, shuffle=True)\n",
    "valid_loader = DataLoader(valid_dataset, batch_size=32, shuffle=False)"
   ]
  },
  {
   "cell_type": "code",
   "execution_count": 11,
   "metadata": {},
   "outputs": [],
   "source": [
    "EPOCHS = 10\n",
    "VOC_SIZE = tokenizer.get_vocab_size()\n",
    "MAX_LEN = 50\n",
    "D_MODEL = 512\n",
    "FFN_HIDDEN = 2048\n",
    "N_HEAD = 8\n",
    "N_LAYERS = 6\n",
    "DROP_PROB = 0.1\n",
    "\n",
    "def look_ahead_mask(size):\n",
    "    mask = torch.triu(torch.ones(size, size), 1)\n",
    "    return mask.masked_fill(mask == 1, float(\"-inf\"))"
   ]
  }
 ],
 "metadata": {
  "kernelspec": {
   "display_name": "venv",
   "language": "python",
   "name": "python3"
  },
  "language_info": {
   "codemirror_mode": {
    "name": "ipython",
    "version": 3
   },
   "file_extension": ".py",
   "mimetype": "text/x-python",
   "name": "python",
   "nbconvert_exporter": "python",
   "pygments_lexer": "ipython3",
   "version": "3.12.5"
  }
 },
 "nbformat": 4,
 "nbformat_minor": 2
}
