{
 "cells": [
  {
   "cell_type": "code",
   "execution_count": 2,
   "metadata": {},
   "outputs": [],
   "source": [
    "# This is the initial dataset which is used in the first initial step of training after this the model should be able to complete text"
   ]
  },
  {
   "cell_type": "code",
   "execution_count": 3,
   "metadata": {},
   "outputs": [
    {
     "name": "stderr",
     "output_type": "stream",
     "text": [
      "/home/fabrice/PythonProjects/aurora/venv/lib/python3.12/site-packages/tqdm/auto.py:21: TqdmWarning: IProgress not found. Please update jupyter and ipywidgets. See https://ipywidgets.readthedocs.io/en/stable/user_install.html\n",
      "  from .autonotebook import tqdm as notebook_tqdm\n"
     ]
    }
   ],
   "source": [
    "import os\n",
    "\n",
    "from datasets import load_dataset\n",
    "\n",
    "from torch.utils.data import Dataset, DataLoader\n",
    "\n",
    "from preprocess.sequencing import create_sequences\n",
    "from preprocess.tokenizer import BPETokenizer\n",
    "\n",
    "from transformer.DecoderLayer import DecoderLayer\n",
    "\n",
    "from concurrent.futures import ProcessPoolExecutor, as_completed\n",
    "from tqdm import tqdm\n",
    "\n",
    "import torch \n",
    "import torch.nn as nn\n",
    "import torch.optim as optim\n",
    "from torch.utils.data import DataLoader, Dataset"
   ]
  },
  {
   "cell_type": "code",
   "execution_count": 4,
   "metadata": {},
   "outputs": [],
   "source": [
    "DEVICE = torch.device(\"cuda\" if torch.cuda.is_available() else \"cpu\")\n",
    "SPECIAL_TOKENS = [\"<s>\", \"<pad>\", \"</s>\", \"<unk>\", \"<mask>\"]\n",
    "TEXT_COMPLETION_PATH = os.path.join(\"data\", \"text_completion.json\")\n",
    "\n",
    "train_set = load_dataset(\"abisee/cnn_dailymail\", \"3.0.0\", split=\"train[:2%]\")\n",
    "\n",
    "# Load 5% of the validation set\n",
    "valid_set = load_dataset(\"abisee/cnn_dailymail\", \"3.0.0\", split=\"validation[:2%]\")\n",
    "\n",
    "print(f\"Training set size: {len(train_set)}\")\n",
    "print(f\"Validation set size: {len(valid_set)}\")"
   ]
  },
  {
   "cell_type": "code",
   "execution_count": 56,
   "metadata": {},
   "outputs": [],
   "source": [
    "train_articles = train_set[\"article\"]\n",
    "train_highlights = train_set[\"highlights\"]\n",
    "\n",
    "\n",
    "tokenizer = BPETokenizer(\n",
    "    vocab_size=30000, min_frequency=2, special_tokens=SPECIAL_TOKENS\n",
    ")\n",
    "\n",
    "if not os.path.exists(TEXT_COMPLETION_PATH):\n",
    "    tokenizer.fit(\n",
    "        train_articles + train_highlights,\n",
    "    )\n",
    "    tokenizer.save(TEXT_COMPLETION_PATH)\n",
    "else:\n",
    "    tokenizer.load(TEXT_COMPLETION_PATH)"
   ]
  },
  {
   "cell_type": "code",
   "execution_count": 57,
   "metadata": {},
   "outputs": [
    {
     "name": "stderr",
     "output_type": "stream",
     "text": [
      "Extracting Train Articles:   0%|          | 0/5742 [00:00<?, ?it/s]"
     ]
    },
    {
     "name": "stderr",
     "output_type": "stream",
     "text": [
      "Extracting Train Articles: 100%|██████████| 5742/5742 [00:00<00:00, 60478.82it/s]\n",
      "Extracting Valid Articles: 100%|██████████| 267/267 [00:00<00:00, 58543.53it/s]\n",
      "Encoding Train Set: 100%|██████████| 5742/5742 [00:01<00:00, 4240.84it/s]\n",
      "Encoding Valid Set: 100%|██████████| 267/267 [00:00<00:00, 3353.84it/s]\n"
     ]
    }
   ],
   "source": [
    "train_articles = [item[\"article\"] for item in tqdm(train_set, desc=\"Extracting Train Articles\") if item[\"article\"] is not None]\n",
    "valid_articles = [item[\"article\"] for item in tqdm(valid_set, desc=\"Extracting Valid Articles\") if item[\"article\"] is not None]\n",
    "\n",
    "def encode_article(article):\n",
    "    return tokenizer.encode(article)\n",
    "\n",
    "def parallel_encode(articles, desc):\n",
    "    encoded_articles = []\n",
    "    with ProcessPoolExecutor() as executor:\n",
    "        futures = {executor.submit(encode_article, article): article for article in articles}\n",
    "        for future in tqdm(as_completed(futures), total=len(futures), desc=desc):\n",
    "            encoded_articles.append(future.result())\n",
    "    return encoded_articles\n",
    "\n",
    "train_set_encoded = parallel_encode(train_articles, \"Encoding Train Set\")\n",
    "valid_set_encoded = parallel_encode(valid_articles, \"Encoding Valid Set\")"
   ]
  },
  {
   "cell_type": "code",
   "execution_count": 58,
   "metadata": {},
   "outputs": [
    {
     "name": "stderr",
     "output_type": "stream",
     "text": [
      "Extracting Token IDs: 100%|██████████| 5742/5742 [00:00<00:00, 48834.17it/s]\n",
      "Extracting Token IDs: 100%|██████████| 267/267 [00:00<00:00, 62854.53it/s]\n"
     ]
    }
   ],
   "source": [
    "def extract_token_ids(encoded_data):\n",
    "    \"\"\"\n",
    "    Convert each Encoding object into its list of token IDs and flatten them into a single list,\n",
    "    with a progress bar showing the extraction progress.\n",
    "    \"\"\"\n",
    "    flattened_ids = []\n",
    "    for encoding in tqdm(encoded_data, desc=\"Extracting Token IDs\"):\n",
    "        flattened_ids.extend(encoding.ids)\n",
    "    return flattened_ids\n",
    "\n",
    "# Extract token IDs with progress bars for training and validation sets\n",
    "train_token_ids = extract_token_ids(train_set_encoded)\n",
    "valid_token_ids = extract_token_ids(valid_set_encoded)\n"
   ]
  },
  {
   "cell_type": "code",
   "execution_count": 59,
   "metadata": {},
   "outputs": [],
   "source": [
    "CONTEXT_ELN = 50 # N\n",
    "TARGET_ELN = 1\n",
    "\n",
    "train_seq = create_sequences(\n",
    "    tokenized_data=train_token_ids, \n",
    "    max_context_length=CONTEXT_ELN,\n",
    "    max_target_length=TARGET_ELN,\n",
    "    skip_processed=True,\n",
    ")\n",
    "\n",
    "valid_seq = create_sequences(\n",
    "    tokenized_data=valid_token_ids,\n",
    "    max_context_length=CONTEXT_ELN,\n",
    "    max_target_length=TARGET_ELN,\n",
    "    skip_processed=True,\n",
    ")"
   ]
  },
  {
   "cell_type": "code",
   "execution_count": 60,
   "metadata": {},
   "outputs": [
    {
     "name": "stdout",
     "output_type": "stream",
     "text": [
      "89900\n",
      "Context: [4507, 16, 1844, 388, 9322, 5054, 13, 289, 5959, 8373]... (Total: 50 tokens)\n",
      "Target: [261] (Total: 1 token)\n",
      "Decoded: ... Radcliffe\n",
      "Decoded:  as\n",
      "Context: [261, 5959, 8373, 175, 200, 15463, 8373, 185, 155, 15629]... (Total: 50 tokens)\n",
      "Target: [45] (Total: 1 token)\n",
      "Decoded: ...parties. \"\n",
      "Decoded: I\n",
      "Context: [45, 749, 393, 795, 173, 199, 442, 180, 766, 417]... (Total: 50 tokens)\n",
      "Target: [27108] (Total: 1 token)\n",
      "Decoded: ...rticularly\n",
      "Decoded:  extravagant\n",
      "Context: [27108, 18, 200, 472, 1415, 213, 609, 7125, 286, 1415]... (Total: 50 tokens)\n",
      "Target: [30] (Total: 1 token)\n",
      "Decoded: ...lm \"Hostel\n",
      "Decoded: :\n",
      "Context: [30, 6751, 3702, 272, 3710, 1323, 3646, 4506, 301, 1342]... (Total: 50 tokens)\n",
      "Target: [180] (Total: 1 token)\n",
      "Decoded: ... some sort\n",
      "Decoded:  of\n",
      "Context: [180, 1907, 272, 207, 227, 175, 254, 1740, 18, 200]... (Total: 50 tokens)\n",
      "Target: [27514] (Total: 1 token)\n",
      "Decoded: ...g fame and\n",
      "Decoded:  riches\n"
     ]
    }
   ],
   "source": [
    "print(len(train_seq))\n",
    "for i, (context, target) in enumerate(train_seq):\n",
    "    print(f\"Context: {context[:10]}... (Total: {len(context)} tokens)\") \n",
    "    print(f\"Target: {target} (Total: {len(target)} token)\") \n",
    "    print(f\"Decoded: ...{tokenizer.decode(context)[-10:]}\")\n",
    "    print(f\"Decoded: {tokenizer.decode(target)}\")\n",
    "    if i == 5:\n",
    "        break\n"
   ]
  },
  {
   "cell_type": "code",
   "execution_count": 61,
   "metadata": {},
   "outputs": [],
   "source": [
    "class TextCompletionDataset(Dataset):\n",
    "    def __init__(self, sequences):\n",
    "        self.sequences = sequences\n",
    "\n",
    "    def __len__(self):\n",
    "        return len(self.sequences)\n",
    "\n",
    "    def __getitem__(self, idx):\n",
    "        context, target = self.sequences[idx]\n",
    "        # Convert context and target to tensors\n",
    "        context = torch.tensor(context, dtype=torch.long)\n",
    "        target = torch.tensor(target, dtype=torch.long)\n",
    "        return context, target\n",
    "\n",
    "    \n",
    "train_dataset = TextCompletionDataset(train_seq)\n",
    "valid_dataset = TextCompletionDataset(valid_seq)"
   ]
  },
  {
   "cell_type": "code",
   "execution_count": 62,
   "metadata": {},
   "outputs": [],
   "source": [
    "train_loader = DataLoader(train_dataset, batch_size=64, shuffle=True)\n",
    "valid_loader = DataLoader(valid_dataset, batch_size=64, shuffle=False)"
   ]
  },
  {
   "cell_type": "code",
   "execution_count": 63,
   "metadata": {},
   "outputs": [],
   "source": [
    "EPOCHS = 10\n",
    "VOC_SIZE = tokenizer.get_vocab_size()\n",
    "MAX_LEN = CONTEXT_ELN\n",
    "D_MODEL = 512\n",
    "FFN_HIDDEN = 2048\n",
    "N_HEAD = 8\n",
    "N_LAYERS = 6\n",
    "DROP_PROB = 0.1"
   ]
  },
  {
   "cell_type": "code",
   "execution_count": 64,
   "metadata": {},
   "outputs": [],
   "source": [
    "class TransformerModel(nn.Module):\n",
    "    def __init__(\n",
    "        self,\n",
    "        vocab_size,\n",
    "        embed_dim,\n",
    "        num_layers,\n",
    "        num_heads,\n",
    "        ff_dim,\n",
    "        max_len=5000,\n",
    "        dropout=0.1,\n",
    "    ):\n",
    "        super().__init__()\n",
    "        self.decoder = DecoderLayer(\n",
    "            vocab_size, embed_dim, num_layers, num_heads, ff_dim, max_len, dropout\n",
    "        )\n",
    "\n",
    "    def forward(self, x, mask=None):\n",
    "        return self.decoder(x, mask)\n"
   ]
  },
  {
   "cell_type": "code",
   "execution_count": 65,
   "metadata": {},
   "outputs": [
    {
     "name": "stdout",
     "output_type": "stream",
     "text": [
      "Parameters:  49664304\n",
      "TransformerModel(\n",
      "  (decoder): DecoderLayer(\n",
      "    (embedding): InputEmbeddings(\n",
      "      (embed): Embedding(30000, 512)\n",
      "    )\n",
      "    (positional_encoding): PositionalEncoding()\n",
      "    (layers): ModuleList(\n",
      "      (0-5): 6 x DecoderBlock(\n",
      "        (attention): MultiHeadAttention(\n",
      "          (qkv_proj): Linear(in_features=512, out_features=1536, bias=True)\n",
      "          (out_proj): Linear(in_features=512, out_features=512, bias=True)\n",
      "        )\n",
      "        (feed_forward): FeedForward(\n",
      "          (linear1): Linear(in_features=512, out_features=2048, bias=True)\n",
      "          (linear2): Linear(in_features=2048, out_features=512, bias=True)\n",
      "          (dropout): Dropout(p=0.1, inplace=False)\n",
      "        )\n",
      "        (norm1): LayerNorm((512,), eps=1e-05, elementwise_affine=True)\n",
      "        (norm2): LayerNorm((512,), eps=1e-05, elementwise_affine=True)\n",
      "        (dropout): Dropout(p=0.1, inplace=False)\n",
      "      )\n",
      "    )\n",
      "    (fc_out): Linear(in_features=512, out_features=30000, bias=True)\n",
      "  )\n",
      ")\n"
     ]
    }
   ],
   "source": [
    "model = TransformerModel(\n",
    "    vocab_size=VOC_SIZE,\n",
    "    embed_dim=D_MODEL,\n",
    "    num_layers=N_LAYERS,\n",
    "    num_heads=N_HEAD,\n",
    "    ff_dim=FFN_HIDDEN,\n",
    "    max_len=MAX_LEN,\n",
    "    dropout=DROP_PROB\n",
    ").to(DEVICE)\n",
    "\n",
    "print(\"Parameters: \", sum(p.numel() for p in model.parameters() if p.requires_grad))\n",
    "print(model)"
   ]
  },
  {
   "cell_type": "code",
   "execution_count": 66,
   "metadata": {},
   "outputs": [],
   "source": [
    "criterion = nn.CrossEntropyLoss()\n",
    "optimizer = optim.AdamW(model.parameters(), lr=0.002)"
   ]
  },
  {
   "cell_type": "code",
   "execution_count": 67,
   "metadata": {},
   "outputs": [],
   "source": [
    "def look_ahead_mask(seq_len):\n",
    "    mask = (torch.triu(torch.ones(seq_len, seq_len)) == 1).transpose(0, 1)\n",
    "    mask = mask.float().masked_fill(mask == 0, float(\"-inf\")).masked_fill(mask == 1, float(0.0))\n",
    "    return mask"
   ]
  },
  {
   "cell_type": "code",
   "execution_count": 68,
   "metadata": {},
   "outputs": [],
   "source": [
    "def train_epoch(model, loader, criterion, optimizer):\n",
    "    \"\"\"\n",
    "    Trains the model for one epoch.\n",
    "\n",
    "    Parameters:\n",
    "    - model: The model being trained.\n",
    "    - loader: DataLoader providing training data batches.\n",
    "    - criterion: The loss function.\n",
    "    - optimizer: The optimizer used to update the model weights.\n",
    "\n",
    "    Returns:\n",
    "    - average_loss: The average training loss over the epoch.\n",
    "    \"\"\"\n",
    "    model.train()\n",
    "    total_loss = 0\n",
    "\n",
    "    for context, target in tqdm(loader, desc=\"Training\"):\n",
    "        context = context.to(DEVICE)\n",
    "        target = target.to(DEVICE)\n",
    "\n",
    "        # Zero gradients\n",
    "        optimizer.zero_grad()\n",
    "\n",
    "        # Create the look-ahead mask for the context sequence\n",
    "        mask = look_ahead_mask(context.size(1)).to(DEVICE)\n",
    "\n",
    "        # Forward pass: model should predict the next token based on context\n",
    "        output = model(context, mask)  # Expect shape: (batch_size, seq_length, vocab_size)\n",
    "        output = output[:, -1, :]  # Get the last token's output along the sequence dimension\n",
    "        target = target.squeeze(-1)  # Adjust target shape to match the output shape\n",
    "\n",
    "        # Calculate loss\n",
    "        loss = criterion(output, target)\n",
    "        total_loss += loss.item()\n",
    "\n",
    "        # Backward pass and optimization step\n",
    "        loss.backward()\n",
    "        optimizer.step()\n",
    "\n",
    "    # Calculate the average loss for the epoch\n",
    "    average_loss = total_loss / len(loader)\n",
    "    return average_loss\n",
    "\n",
    "\n",
    "def validate_epoch(model, loader, criterion):\n",
    "    \"\"\"\n",
    "    Validates the model for one epoch.\n",
    "\n",
    "    Parameters:\n",
    "    - model: The model being validated.\n",
    "    - loader: DataLoader providing validation data batches.\n",
    "    - criterion: The loss function.\n",
    "\n",
    "    Returns:\n",
    "    - average_loss: The average validation loss over the epoch.\n",
    "    \"\"\"\n",
    "    model.eval()\n",
    "    total_loss = 0\n",
    "\n",
    "    with torch.no_grad():\n",
    "        for context, target in tqdm(loader, desc=\"Validation\"):\n",
    "            context = context.to(DEVICE)\n",
    "            target = target.to(DEVICE)\n",
    "\n",
    "            # Create the look-ahead mask for the context sequence\n",
    "            mask = look_ahead_mask(context.size(1)).to(DEVICE)\n",
    "\n",
    "            # Forward pass: model should predict the next token based on context\n",
    "            output = model(context, mask)  # Expect shape: (batch_size, seq_length, vocab_size)\n",
    "            output = output[:, -1, :]  # Get the last prediction along the sequence dimension\n",
    "            target = target.squeeze(-1)  # Adjust target shape to match the output shape\n",
    "\n",
    "            # Calculate loss\n",
    "            loss = criterion(output, target)\n",
    "            total_loss += loss.item()\n",
    "\n",
    "    # Calculate the average loss for the epoch\n",
    "    average_loss = total_loss / len(loader)\n",
    "    return average_loss\n"
   ]
  },
  {
   "cell_type": "code",
   "execution_count": 1,
   "metadata": {},
   "outputs": [
    {
     "ename": "NameError",
     "evalue": "name 'EPOCHS' is not defined",
     "output_type": "error",
     "traceback": [
      "\u001b[0;31m---------------------------------------------------------------------------\u001b[0m",
      "\u001b[0;31mNameError\u001b[0m                                 Traceback (most recent call last)",
      "Cell \u001b[0;32mIn[1], line 2\u001b[0m\n\u001b[1;32m      1\u001b[0m losses \u001b[38;5;241m=\u001b[39m {\u001b[38;5;124m\"\u001b[39m\u001b[38;5;124mtrain\u001b[39m\u001b[38;5;124m\"\u001b[39m: [], \u001b[38;5;124m\"\u001b[39m\u001b[38;5;124mvalid\u001b[39m\u001b[38;5;124m\"\u001b[39m: []}\n\u001b[0;32m----> 2\u001b[0m \u001b[38;5;28;01mfor\u001b[39;00m epoch \u001b[38;5;129;01min\u001b[39;00m \u001b[38;5;28mrange\u001b[39m(\u001b[43mEPOCHS\u001b[49m):\n\u001b[1;32m      3\u001b[0m     \u001b[38;5;28mprint\u001b[39m(\u001b[38;5;124mf\u001b[39m\u001b[38;5;124m\"\u001b[39m\u001b[38;5;124mEpoch \u001b[39m\u001b[38;5;132;01m{\u001b[39;00mepoch\u001b[38;5;250m \u001b[39m\u001b[38;5;241m+\u001b[39m\u001b[38;5;250m \u001b[39m\u001b[38;5;241m1\u001b[39m\u001b[38;5;132;01m}\u001b[39;00m\u001b[38;5;124m\"\u001b[39m)\n\u001b[1;32m      4\u001b[0m     train_loss \u001b[38;5;241m=\u001b[39m train_epoch(model, train_loader, criterion, optimizer)\n",
      "\u001b[0;31mNameError\u001b[0m: name 'EPOCHS' is not defined"
     ]
    }
   ],
   "source": [
    "losses = {\"train\": [], \"valid\": []}\n",
    "for epoch in range(EPOCHS):\n",
    "    print(f\"Epoch {epoch + 1}\")\n",
    "    train_loss = train_epoch(model, train_loader, criterion, optimizer)\n",
    "    valid_loss = validate_epoch(model, valid_loader, criterion)\n",
    "    print(f\"Train Loss: {train_loss:.4f} | Valid Loss: {valid_loss:.4f}\")\n",
    "    losses[\"train\"].append(train_loss)\n",
    "    losses[\"valid\"].append(valid_loss)"
   ]
  },
  {
   "cell_type": "code",
   "execution_count": 72,
   "metadata": {},
   "outputs": [
    {
     "name": "stdout",
     "output_type": "stream",
     "text": [
      " The quick brown fox jumps over the lazy dogorship retailer Horman catalyst Smokey Sub Farrah valuable upcoming Republican\n"
     ]
    }
   ],
   "source": [
    "import torch\n",
    "import torch.nn.functional as F\n",
    "\n",
    "def top_k_logits(logits, k):\n",
    "    \"\"\"\n",
    "    Keeps only the top k logits and sets the rest to a large negative value.\n",
    "    \n",
    "    Parameters:\n",
    "    - logits: The logits tensor from which to sample.\n",
    "    - k: The number of top logits to keep.\n",
    "    \n",
    "    Returns:\n",
    "    - logits: The modified logits tensor.\n",
    "    \"\"\"\n",
    "    if k == 0:\n",
    "        return logits\n",
    "    values, _ = torch.topk(logits, k)\n",
    "    min_values = values[:, -1].unsqueeze(1)\n",
    "    return torch.where(logits < min_values, torch.full_like(logits, float('-inf')), logits)\n",
    "\n",
    "def generate_text(model, tokenizer, initial_text, n_words=10, device='cuda', temperature=1.0, top_k=0):\n",
    "    \"\"\"\n",
    "    Generates text using a given model and tokenizer with temperature scaling and top-k sampling.\n",
    "\n",
    "    Parameters:\n",
    "    - model: The trained model used for text generation.\n",
    "    - tokenizer: The tokenizer used to encode and decode text.\n",
    "    - initial_text: The initial context text to start the generation.\n",
    "    - n_words: The number of words to generate (default is 10).\n",
    "    - device: The device to run the model on (default is 'cuda').\n",
    "    - temperature: Temperature scaling factor for randomness control (default is 1.0).\n",
    "    - top_k: Number of top logits to keep for sampling (default is 0, which keeps all).\n",
    "    \n",
    "    Returns:\n",
    "    - decoded: The decoded generated text.\n",
    "    \"\"\"\n",
    "    # Set the model to evaluation mode\n",
    "    model.eval()\n",
    "    \n",
    "    # Encode the initial context text\n",
    "    context = tokenizer.encode(initial_text)\n",
    "    # Extract the token IDs and create the input tensor\n",
    "    context = torch.tensor(context.ids, dtype=torch.long).unsqueeze(0).to(device)\n",
    "    \n",
    "    # Initialize the look-ahead mask based on the initial context size\n",
    "    mask = look_ahead_mask(context.size(1)).to(device)\n",
    "\n",
    "    # Function to generate the next word based on the current context and mask\n",
    "    def gen_next_word(model, context, mask, temperature, top_k):\n",
    "        with torch.no_grad():\n",
    "            output = model(context, mask)\n",
    "            logits = output[:, -1, :]  # Get the logits for the last token\n",
    "            logits = logits / temperature  # Apply temperature scaling\n",
    "            \n",
    "            # Apply top-k filtering to logits\n",
    "            logits = top_k_logits(logits, top_k)\n",
    "            \n",
    "            # Sample from the adjusted logits distribution\n",
    "            probabilities = F.softmax(logits, dim=-1)\n",
    "            next_token = torch.multinomial(probabilities, num_samples=1)\n",
    "            return next_token.squeeze(-1)\n",
    "\n",
    "    # Generate n_words tokens and update the context and mask accordingly\n",
    "    for _ in range(n_words):\n",
    "        next_token = gen_next_word(model, context, mask, temperature, top_k)\n",
    "        # Expand next_token to match the batch dimension and concatenate\n",
    "        context = torch.cat([context, next_token.unsqueeze(1)], dim=1)\n",
    "        # Recalculate the mask to match the updated context size\n",
    "        mask = look_ahead_mask(context.size(1)).to(device)\n",
    "\n",
    "    # Decode the generated context into text\n",
    "    decoded = tokenizer.decode(context.squeeze().tolist())\n",
    "    return decoded\n",
    "\n",
    "# Example usage:\n",
    "initial_text = \"The quick brown fox jumps over the lazy dog\"\n",
    "generated_text = generate_text(\n",
    "    model, \n",
    "    tokenizer, \n",
    "    initial_text, \n",
    "    n_words=10, \n",
    "    device=DEVICE, \n",
    "    temperature=0.7,  # Adjust temperature here\n",
    "    top_k=10          # Adjust top-k here\n",
    ")\n",
    "print(generated_text)\n"
   ]
  }
 ],
 "metadata": {
  "kernelspec": {
   "display_name": "venv",
   "language": "python",
   "name": "python3"
  },
  "language_info": {
   "codemirror_mode": {
    "name": "ipython",
    "version": 3
   },
   "file_extension": ".py",
   "mimetype": "text/x-python",
   "name": "python",
   "nbconvert_exporter": "python",
   "pygments_lexer": "ipython3",
   "version": "3.12.6"
  }
 },
 "nbformat": 4,
 "nbformat_minor": 2
}
